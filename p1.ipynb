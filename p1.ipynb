{
  "nbformat": 4,
  "nbformat_minor": 0,
  "metadata": {
    "colab": {
      "name": "p1",
      "provenance": [],
      "authorship_tag": "ABX9TyP94P6IxTCWFRYYqX8o8EA6",
      "include_colab_link": true
    },
    "kernelspec": {
      "name": "python3",
      "display_name": "Python 3"
    },
    "language_info": {
      "name": "python"
    }
  },
  "cells": [
    {
      "cell_type": "markdown",
      "metadata": {
        "id": "view-in-github",
        "colab_type": "text"
      },
      "source": [
        "<a href=\"https://colab.research.google.com/github/MANOJVENKATH/Task1/blob/main/p1.ipynb\" target=\"_parent\"><img src=\"https://colab.research.google.com/assets/colab-badge.svg\" alt=\"Open In Colab\"/></a>"
      ]
    },
    {
      "cell_type": "code",
      "execution_count": null,
      "metadata": {
        "id": "n4jrh7ow5hhS"
      },
      "outputs": [],
      "source": [
        ""
      ]
    },
    {
      "cell_type": "code",
      "execution_count": null,
      "metadata": {
        "colab": {
          "base_uri": "https://localhost:8080/"
        },
        "id": "F2OYTDroiqIl",
        "outputId": "0c9c2ad3-ef4a-4f4f-e5ea-040e37c6f0e9"
      },
      "outputs": [
        {
          "output_type": "stream",
          "name": "stdout",
          "text": [
            "Collecting dnspython\n",
            "  Downloading dnspython-2.2.1-py3-none-any.whl (269 kB)\n",
            "\u001b[?25l\r\u001b[K     |█▏                              | 10 kB 24.3 MB/s eta 0:00:01\r\u001b[K     |██▍                             | 20 kB 24.3 MB/s eta 0:00:01\r\u001b[K     |███▋                            | 30 kB 15.9 MB/s eta 0:00:01\r\u001b[K     |████▉                           | 40 kB 14.1 MB/s eta 0:00:01\r\u001b[K     |██████                          | 51 kB 7.0 MB/s eta 0:00:01\r\u001b[K     |███████▎                        | 61 kB 8.3 MB/s eta 0:00:01\r\u001b[K     |████████▌                       | 71 kB 8.7 MB/s eta 0:00:01\r\u001b[K     |█████████▊                      | 81 kB 8.2 MB/s eta 0:00:01\r\u001b[K     |███████████                     | 92 kB 9.1 MB/s eta 0:00:01\r\u001b[K     |████████████▏                   | 102 kB 7.6 MB/s eta 0:00:01\r\u001b[K     |█████████████▍                  | 112 kB 7.6 MB/s eta 0:00:01\r\u001b[K     |██████████████▋                 | 122 kB 7.6 MB/s eta 0:00:01\r\u001b[K     |███████████████▉                | 133 kB 7.6 MB/s eta 0:00:01\r\u001b[K     |█████████████████               | 143 kB 7.6 MB/s eta 0:00:01\r\u001b[K     |██████████████████▎             | 153 kB 7.6 MB/s eta 0:00:01\r\u001b[K     |███████████████████▌            | 163 kB 7.6 MB/s eta 0:00:01\r\u001b[K     |████████████████████▊           | 174 kB 7.6 MB/s eta 0:00:01\r\u001b[K     |██████████████████████          | 184 kB 7.6 MB/s eta 0:00:01\r\u001b[K     |███████████████████████▏        | 194 kB 7.6 MB/s eta 0:00:01\r\u001b[K     |████████████████████████▍       | 204 kB 7.6 MB/s eta 0:00:01\r\u001b[K     |█████████████████████████▋      | 215 kB 7.6 MB/s eta 0:00:01\r\u001b[K     |██████████████████████████▉     | 225 kB 7.6 MB/s eta 0:00:01\r\u001b[K     |████████████████████████████    | 235 kB 7.6 MB/s eta 0:00:01\r\u001b[K     |█████████████████████████████▎  | 245 kB 7.6 MB/s eta 0:00:01\r\u001b[K     |██████████████████████████████▍ | 256 kB 7.6 MB/s eta 0:00:01\r\u001b[K     |███████████████████████████████▋| 266 kB 7.6 MB/s eta 0:00:01\r\u001b[K     |████████████████████████████████| 269 kB 7.6 MB/s \n",
            "\u001b[?25hInstalling collected packages: dnspython\n",
            "Successfully installed dnspython-2.2.1\n",
            "Requirement already satisfied: pymongo[srv] in /usr/local/lib/python3.7/dist-packages (4.0.2)\n",
            "Requirement already satisfied: dnspython<3.0.0,>=1.16.0 in /usr/local/lib/python3.7/dist-packages (from pymongo[srv]) (2.2.1)\n",
            "\u001b[31mERROR: Operation cancelled by user\u001b[0m\n"
          ]
        }
      ],
      "source": [
        "!pip install dnspython\n",
        "!pip install pymongo[srv]"
      ]
    },
    {
      "cell_type": "markdown",
      "source": [
        ""
      ],
      "metadata": {
        "id": "07lWjbXyhbqf"
      }
    },
    {
      "cell_type": "code",
      "source": [
        "import json\n",
        "# some JSON:\n",
        "x =  { \"name\":\"yash\", \"age\":31, \"city\":\"kgf\"}\n",
        "# parse x:\n",
        "y = json.dumps(x)\n",
        "# the result is a Python dictionary:\n",
        "type(y)\n",
        "f=open(\"dict.txt\",\"a\")\n",
        "f.write(y+\"\\n\")\n",
        "f.close()"
      ],
      "metadata": {
        "id": "va_0s6eb5xh5"
      },
      "execution_count": null,
      "outputs": []
    },
    {
      "cell_type": "code",
      "source": [
        "a= open(\"dict.txt\",\"r\")\n",
        "b = a.readlines()\n",
        "b"
      ],
      "metadata": {
        "colab": {
          "base_uri": "https://localhost:8080/"
        },
        "id": "Q19l3bPu5xuW",
        "outputId": "6f2f1788-e92e-495d-ae2b-803047bf2760"
      },
      "execution_count": null,
      "outputs": [
        {
          "output_type": "execute_result",
          "data": {
            "text/plain": [
              "['{\"name\": \"yash\", \"age\": 31, \"city\": \"kgf\"}\\n',\n",
              " '{\"name\": \"yash\", \"age\": 31, \"city\": \"kgf\"}\\n']"
            ]
          },
          "metadata": {},
          "execution_count": 17
        }
      ]
    },
    {
      "cell_type": "code",
      "source": [
        "import ast\n",
        "result = ast.literal_eval(b[0])\n",
        "\n",
        "result"
      ],
      "metadata": {
        "colab": {
          "base_uri": "https://localhost:8080/"
        },
        "id": "7buRQ3yGYj2k",
        "outputId": "7cb0a007-7145-481d-b1c4-27a2a2ef9a3a"
      },
      "execution_count": null,
      "outputs": [
        {
          "output_type": "execute_result",
          "data": {
            "text/plain": [
              "{'age': 31, 'city': 'kgf', 'name': 'yash'}"
            ]
          },
          "metadata": {},
          "execution_count": 9
        }
      ]
    },
    {
      "cell_type": "code",
      "source": [
        "c=[]\n",
        "for i in range(len(b)):\n",
        " c.append(ast.literal_eval(b[i]))"
      ],
      "metadata": {
        "id": "kRnBiiLMX8eY"
      },
      "execution_count": null,
      "outputs": []
    },
    {
      "cell_type": "code",
      "source": [
        "c"
      ],
      "metadata": {
        "colab": {
          "base_uri": "https://localhost:8080/"
        },
        "id": "8rYI6TvJLWhv",
        "outputId": "38aa8bf5-623a-44e9-ddf9-b77e02383fe1"
      },
      "execution_count": null,
      "outputs": [
        {
          "output_type": "execute_result",
          "data": {
            "text/plain": [
              "[{'age': 31, 'city': 'kgf', 'name': 'yash'},\n",
              " {'age': 31, 'city': 'kgf', 'name': 'yash'}]"
            ]
          },
          "metadata": {},
          "execution_count": 19
        }
      ]
    },
    {
      "cell_type": "markdown",
      "source": [
        ""
      ],
      "metadata": {
        "id": "Dcqq9rFDK3BO"
      }
    },
    {
      "cell_type": "code",
      "source": [
        "e=input()\n",
        "for x in range(len(c)):\n",
        "  name=c[x][\"name\"]\n",
        "  if name==e:\n",
        "    print(c[x][\"city\"])"
      ],
      "metadata": {
        "colab": {
          "base_uri": "https://localhost:8080/"
        },
        "id": "1YqZ1FAEKual",
        "outputId": "46b879da-8dd9-48d0-9ae3-22aa10319d2c"
      },
      "execution_count": null,
      "outputs": [
        {
          "output_type": "stream",
          "name": "stdout",
          "text": [
            "yash\n",
            "kgf\n",
            "kgf\n"
          ]
        }
      ]
    },
    {
      "cell_type": "code",
      "source": [
        "import ast\n",
        "result = ast.literal_eval(a[0])"
      ],
      "metadata": {
        "id": "aR3J5mfe5x3w"
      },
      "execution_count": null,
      "outputs": []
    },
    {
      "cell_type": "code",
      "source": [
        "print(any([False,False,False]))\n"
      ],
      "metadata": {
        "colab": {
          "base_uri": "https://localhost:8080/"
        },
        "id": "mWzkwC098AmV",
        "outputId": "e3c97fc9-f974-4ae6-e5a4-61286b571796"
      },
      "execution_count": null,
      "outputs": [
        {
          "output_type": "stream",
          "name": "stdout",
          "text": [
            "False\n"
          ]
        }
      ]
    },
    {
      "cell_type": "code",
      "source": [
        "print(any([False,True,False]))"
      ],
      "metadata": {
        "colab": {
          "base_uri": "https://localhost:8080/"
        },
        "outputId": "8f202fdb-e27e-4a6b-d133-171e0485c5b3",
        "id": "pivhkiDR9PHq"
      },
      "execution_count": null,
      "outputs": [
        {
          "output_type": "stream",
          "name": "stdout",
          "text": [
            "True\n"
          ]
        }
      ]
    },
    {
      "cell_type": "code",
      "source": [
        "old_list =[2,1,3,8,10,11,13]\n",
        "list_even = list(map(lambda x: x%2 == 0, old_list))\n",
        "list_odd = [x%2 != 0 for x in old_list]\n",
        "print(list_even)\n",
        "print(list_odd)\n",
        "print(\"are any of element even?\"+str(any(list_even)))\n",
        "print(\"are any of element even?\"+str(any(list_odd)))\n",
        "\n",
        "\n",
        "\n"
      ],
      "metadata": {
        "colab": {
          "base_uri": "https://localhost:8080/"
        },
        "id": "FyJxszhQ-Dxy",
        "outputId": "bf29954f-69d0-4210-e9e4-8d7d371cd777"
      },
      "execution_count": null,
      "outputs": [
        {
          "output_type": "stream",
          "name": "stdout",
          "text": [
            "[True, False, False, True, True, False, False]\n",
            "[False, True, True, False, False, True, True]\n",
            "are any of element even?True\n",
            "are any of element even?True\n"
          ]
        }
      ]
    },
    {
      "cell_type": "code",
      "source": [
        "import zlib, sys\n",
        " \n",
        "filename_in = \"/content/IMG_20210812_110330.jpg\"\n",
        "filename_out = \"compressed_data\"\n",
        " \n",
        "with open(filename_in, mode=\"rb\") as fin, open(filename_out, mode=\"wb\") as fout:\n",
        "   data = fin.read()\n",
        "   compressed_data = zlib.compress(data, zlib.Z_BEST_COMPRESSION)\n",
        "   print(f\"Original size: {sys.getsizeof(data)}\")\n",
        "   # Original size: 1000033\n",
        "   print(f\"Compressed size: {sys.getsizeof(compressed_data)}\")\n",
        "      # Compressed size: 1024\n",
        " \n",
        "   fout.write(compressed_data)\n",
        " \n",
        "with open(filename_out, mode=\"rb\") as fin:\n",
        "   data = fin.read()\n",
        "   compressed_data = zlib.decompress(data)\n",
        "   print(f\"Compressed size: {sys.getsizeof(data)}\")\n",
        "   # Compressed size: 1024\n",
        "   print(f\"Decompressed size: {sys.getsizeof(compressed_data)}\")\n",
        "   # Decompressed size: 1000033"
      ],
      "metadata": {
        "colab": {
          "base_uri": "https://localhost:8080/"
        },
        "id": "YtnuiLr_E8Gf",
        "outputId": "1d298138-7d8f-4ec1-aa89-99b07abc2c5a"
      },
      "execution_count": null,
      "outputs": [
        {
          "output_type": "stream",
          "name": "stdout",
          "text": [
            "Original size: 1721873\n",
            "Compressed size: 1703976\n",
            "Compressed size: 1703976\n",
            "Decompressed size: 1721873\n"
          ]
        }
      ]
    },
    {
      "cell_type": "code",
      "source": [
        "for x in range(5):\n",
        "  open(\"words\",str(x),\"r\")"
      ],
      "metadata": {
        "colab": {
          "base_uri": "https://localhost:8080/",
          "height": 182
        },
        "id": "c4wMWfeyCL3W",
        "outputId": "4f4c65b5-1e53-49f2-d67f-3fb39ab584d9"
      },
      "execution_count": 4,
      "outputs": [
        {
          "output_type": "error",
          "ename": "TypeError",
          "evalue": "ignored",
          "traceback": [
            "\u001b[0;31m---------------------------------------------------------------------------\u001b[0m",
            "\u001b[0;31mTypeError\u001b[0m                                 Traceback (most recent call last)",
            "\u001b[0;32m<ipython-input-4-5bb339fa9ce1>\u001b[0m in \u001b[0;36m<module>\u001b[0;34m()\u001b[0m\n\u001b[1;32m      1\u001b[0m \u001b[0;32mfor\u001b[0m \u001b[0mx\u001b[0m \u001b[0;32min\u001b[0m \u001b[0mrange\u001b[0m\u001b[0;34m(\u001b[0m\u001b[0;36m5\u001b[0m\u001b[0;34m)\u001b[0m\u001b[0;34m:\u001b[0m\u001b[0;34m\u001b[0m\u001b[0;34m\u001b[0m\u001b[0m\n\u001b[0;32m----> 2\u001b[0;31m   \u001b[0mopen\u001b[0m\u001b[0;34m(\u001b[0m\u001b[0;34m\"words\"\u001b[0m\u001b[0;34m,\u001b[0m\u001b[0mstr\u001b[0m\u001b[0;34m(\u001b[0m\u001b[0mx\u001b[0m\u001b[0;34m)\u001b[0m\u001b[0;34m,\u001b[0m\u001b[0;34m\"r\"\u001b[0m\u001b[0;34m)\u001b[0m\u001b[0;34m\u001b[0m\u001b[0;34m\u001b[0m\u001b[0m\n\u001b[0m",
            "\u001b[0;31mTypeError\u001b[0m: an integer is required (got type str)"
          ]
        }
      ]
    },
    {
      "cell_type": "code",
      "source": [
        "import zipfile\n",
        " \n",
        "files = [\"words1.txt\", \"words2.txt\", \"words3.txt\", \"words4.txt\", \"words0.txt\"]\n",
        "archive = \"archive.zip\"\n",
        "#password = b\"verysecret\"\n",
        " \n",
        "with zipfile.ZipFile(archive, \"w\") as zf:\n",
        "   for file in files:\n",
        "       zf.write(file)\n",
        " \n",
        " #  zf.setpassword(password)\n",
        " \n",
        "with zipfile.ZipFile(archive, \"r\") as zf:\n",
        "   crc_test = zf.testzip()\n",
        "   if crc_test is not None:\n",
        "       print(f\"Bad CRC or file headers: {crc_test}\")\n",
        " \n",
        "   info = zf.infolist()  # also zf.namelist()\n",
        "   print(info) \n",
        " \n",
        "   file = info[0]\n",
        "   with zf.open(file) as f:\n",
        "       print(f.read().decode())\n",
        "      \n",
        " \n",
        "  # zf.extract(file, \"/tmp\", pwd=password)"
      ],
      "metadata": {
        "colab": {
          "base_uri": "https://localhost:8080/",
          "height": 380
        },
        "id": "ofPeKuSgBGq_",
        "outputId": "1a2514db-0f87-4aaf-9486-cc4da792cb0a"
      },
      "execution_count": 1,
      "outputs": [
        {
          "output_type": "error",
          "ename": "FileNotFoundError",
          "evalue": "ignored",
          "traceback": [
            "\u001b[0;31m---------------------------------------------------------------------------\u001b[0m",
            "\u001b[0;31mFileNotFoundError\u001b[0m                         Traceback (most recent call last)",
            "\u001b[0;32m<ipython-input-1-323943eb21f8>\u001b[0m in \u001b[0;36m<module>\u001b[0;34m()\u001b[0m\n\u001b[1;32m      7\u001b[0m \u001b[0;32mwith\u001b[0m \u001b[0mzipfile\u001b[0m\u001b[0;34m.\u001b[0m\u001b[0mZipFile\u001b[0m\u001b[0;34m(\u001b[0m\u001b[0marchive\u001b[0m\u001b[0;34m,\u001b[0m \u001b[0;34m\"w\"\u001b[0m\u001b[0;34m)\u001b[0m \u001b[0;32mas\u001b[0m \u001b[0mzf\u001b[0m\u001b[0;34m:\u001b[0m\u001b[0;34m\u001b[0m\u001b[0;34m\u001b[0m\u001b[0m\n\u001b[1;32m      8\u001b[0m    \u001b[0;32mfor\u001b[0m \u001b[0mfile\u001b[0m \u001b[0;32min\u001b[0m \u001b[0mfiles\u001b[0m\u001b[0;34m:\u001b[0m\u001b[0;34m\u001b[0m\u001b[0;34m\u001b[0m\u001b[0m\n\u001b[0;32m----> 9\u001b[0;31m        \u001b[0mzf\u001b[0m\u001b[0;34m.\u001b[0m\u001b[0mwrite\u001b[0m\u001b[0;34m(\u001b[0m\u001b[0mfile\u001b[0m\u001b[0;34m)\u001b[0m\u001b[0;34m\u001b[0m\u001b[0;34m\u001b[0m\u001b[0m\n\u001b[0m\u001b[1;32m     10\u001b[0m \u001b[0;34m\u001b[0m\u001b[0m\n\u001b[1;32m     11\u001b[0m    \u001b[0mzf\u001b[0m\u001b[0;34m.\u001b[0m\u001b[0msetpassword\u001b[0m\u001b[0;34m(\u001b[0m\u001b[0mpassword\u001b[0m\u001b[0;34m)\u001b[0m\u001b[0;34m\u001b[0m\u001b[0;34m\u001b[0m\u001b[0m\n",
            "\u001b[0;32m/usr/lib/python3.7/zipfile.py\u001b[0m in \u001b[0;36mwrite\u001b[0;34m(self, filename, arcname, compress_type, compresslevel)\u001b[0m\n\u001b[1;32m   1728\u001b[0m             )\n\u001b[1;32m   1729\u001b[0m \u001b[0;34m\u001b[0m\u001b[0m\n\u001b[0;32m-> 1730\u001b[0;31m         \u001b[0mzinfo\u001b[0m \u001b[0;34m=\u001b[0m \u001b[0mZipInfo\u001b[0m\u001b[0;34m.\u001b[0m\u001b[0mfrom_file\u001b[0m\u001b[0;34m(\u001b[0m\u001b[0mfilename\u001b[0m\u001b[0;34m,\u001b[0m \u001b[0marcname\u001b[0m\u001b[0;34m)\u001b[0m\u001b[0;34m\u001b[0m\u001b[0;34m\u001b[0m\u001b[0m\n\u001b[0m\u001b[1;32m   1731\u001b[0m \u001b[0;34m\u001b[0m\u001b[0m\n\u001b[1;32m   1732\u001b[0m         \u001b[0;32mif\u001b[0m \u001b[0mzinfo\u001b[0m\u001b[0;34m.\u001b[0m\u001b[0mis_dir\u001b[0m\u001b[0;34m(\u001b[0m\u001b[0;34m)\u001b[0m\u001b[0;34m:\u001b[0m\u001b[0;34m\u001b[0m\u001b[0;34m\u001b[0m\u001b[0m\n",
            "\u001b[0;32m/usr/lib/python3.7/zipfile.py\u001b[0m in \u001b[0;36mfrom_file\u001b[0;34m(cls, filename, arcname)\u001b[0m\n\u001b[1;32m    516\u001b[0m         \u001b[0;32mif\u001b[0m \u001b[0misinstance\u001b[0m\u001b[0;34m(\u001b[0m\u001b[0mfilename\u001b[0m\u001b[0;34m,\u001b[0m \u001b[0mos\u001b[0m\u001b[0;34m.\u001b[0m\u001b[0mPathLike\u001b[0m\u001b[0;34m)\u001b[0m\u001b[0;34m:\u001b[0m\u001b[0;34m\u001b[0m\u001b[0;34m\u001b[0m\u001b[0m\n\u001b[1;32m    517\u001b[0m             \u001b[0mfilename\u001b[0m \u001b[0;34m=\u001b[0m \u001b[0mos\u001b[0m\u001b[0;34m.\u001b[0m\u001b[0mfspath\u001b[0m\u001b[0;34m(\u001b[0m\u001b[0mfilename\u001b[0m\u001b[0;34m)\u001b[0m\u001b[0;34m\u001b[0m\u001b[0;34m\u001b[0m\u001b[0m\n\u001b[0;32m--> 518\u001b[0;31m         \u001b[0mst\u001b[0m \u001b[0;34m=\u001b[0m \u001b[0mos\u001b[0m\u001b[0;34m.\u001b[0m\u001b[0mstat\u001b[0m\u001b[0;34m(\u001b[0m\u001b[0mfilename\u001b[0m\u001b[0;34m)\u001b[0m\u001b[0;34m\u001b[0m\u001b[0;34m\u001b[0m\u001b[0m\n\u001b[0m\u001b[1;32m    519\u001b[0m         \u001b[0misdir\u001b[0m \u001b[0;34m=\u001b[0m \u001b[0mstat\u001b[0m\u001b[0;34m.\u001b[0m\u001b[0mS_ISDIR\u001b[0m\u001b[0;34m(\u001b[0m\u001b[0mst\u001b[0m\u001b[0;34m.\u001b[0m\u001b[0mst_mode\u001b[0m\u001b[0;34m)\u001b[0m\u001b[0;34m\u001b[0m\u001b[0;34m\u001b[0m\u001b[0m\n\u001b[1;32m    520\u001b[0m         \u001b[0mmtime\u001b[0m \u001b[0;34m=\u001b[0m \u001b[0mtime\u001b[0m\u001b[0;34m.\u001b[0m\u001b[0mlocaltime\u001b[0m\u001b[0;34m(\u001b[0m\u001b[0mst\u001b[0m\u001b[0;34m.\u001b[0m\u001b[0mst_mtime\u001b[0m\u001b[0;34m)\u001b[0m\u001b[0;34m\u001b[0m\u001b[0;34m\u001b[0m\u001b[0m\n",
            "\u001b[0;31mFileNotFoundError\u001b[0m: [Errno 2] No such file or directory: 'words1.txt'"
          ]
        }
      ]
    },
    {
      "cell_type": "code",
      "source": [
        "!unzip archip.zip"
      ],
      "metadata": {
        "id": "qXRihvYDB1li"
      },
      "execution_count": null,
      "outputs": []
    },
    {
      "cell_type": "code",
      "source": [
        "l1 = [\"a\",\"b\",\"c\",\"d\"]\n",
        "[i.upper() if i != \"a\" else i for i in l1]"
      ],
      "metadata": {
        "colab": {
          "base_uri": "https://localhost:8080/"
        },
        "id": "1_JZTyd1BJlS",
        "outputId": "10a28c92-5dd1-47c0-99a8-0229668d2076"
      },
      "execution_count": 3,
      "outputs": [
        {
          "output_type": "execute_result",
          "data": {
            "text/plain": [
              "['a', 'B', 'C', 'D']"
            ]
          },
          "metadata": {},
          "execution_count": 3
        }
      ]
    }
  ]
}